{
 "cells": [
  {
   "cell_type": "code",
   "execution_count": 1,
   "metadata": {},
   "outputs": [
    {
     "ename": "ModuleNotFoundError",
     "evalue": "No module named 'requests'",
     "output_type": "error",
     "traceback": [
      "\u001b[1;31m---------------------------------------------------------------------------\u001b[0m",
      "\u001b[1;31mModuleNotFoundError\u001b[0m                       Traceback (most recent call last)",
      "\u001b[1;32m<ipython-input-1-992a3e65a59c>\u001b[0m in \u001b[0;36m<module>\u001b[1;34m\u001b[0m\n\u001b[0;32m      1\u001b[0m \u001b[1;31m#-*- coding:utf-8 -*-\u001b[0m\u001b[1;33m\u001b[0m\u001b[1;33m\u001b[0m\u001b[1;33m\u001b[0m\u001b[0m\n\u001b[0;32m      2\u001b[0m \u001b[1;32mimport\u001b[0m \u001b[0mjson\u001b[0m\u001b[1;33m\u001b[0m\u001b[1;33m\u001b[0m\u001b[0m\n\u001b[1;32m----> 3\u001b[1;33m \u001b[1;32mimport\u001b[0m \u001b[0mrequests\u001b[0m\u001b[1;33m\u001b[0m\u001b[1;33m\u001b[0m\u001b[0m\n\u001b[0m\u001b[0;32m      4\u001b[0m \u001b[1;32mimport\u001b[0m \u001b[0mrandom\u001b[0m\u001b[1;33m\u001b[0m\u001b[1;33m\u001b[0m\u001b[0m\n\u001b[0;32m      5\u001b[0m \u001b[1;33m\u001b[0m\u001b[0m\n",
      "\u001b[1;31mModuleNotFoundError\u001b[0m: No module named 'requests'"
     ]
    }
   ],
   "source": []
  },
  {
   "cell_type": "code",
   "execution_count": 6,
   "metadata": {},
   "outputs": [],
   "source": []
  },
  {
   "cell_type": "code",
   "execution_count": 4,
   "metadata": {},
   "outputs": [
    {
     "name": "stdout",
     "output_type": "stream",
     "text": [
      "https://kauth.kakao.com/oauth/authorize?client_id=b95b39d6b4f00e9b82cd81a7c42c0edd&redirect_uri=https://www.naver.com&response_type=code\n"
     ]
    }
   ],
   "source": []
  },
  {
   "cell_type": "code",
   "execution_count": 7,
   "metadata": {},
   "outputs": [
    {
     "ename": "NameError",
     "evalue": "name 'DfdcNh9vinvN8UcC' is not defined",
     "output_type": "error",
     "traceback": [
      "\u001b[1;31m---------------------------------------------------------------------------\u001b[0m",
      "\u001b[1;31mNameError\u001b[0m                                 Traceback (most recent call last)",
      "\u001b[1;32m<ipython-input-7-1ee1b2482b5b>\u001b[0m in \u001b[0;36m<module>\u001b[1;34m\u001b[0m\n\u001b[1;32m----> 1\u001b[1;33m \u001b[0mDfdcNh9vinvN8UcC\u001b[0m\u001b[1;33m-\u001b[0m\u001b[0mR4hyB8Pi_8bGqVLrhkN224SPI7XuUpIl0va3SKK0gzcaS8i0ca2XAopb9QAAAF0126AfQ\u001b[0m\u001b[1;33m\u001b[0m\u001b[1;33m\u001b[0m\u001b[0m\n\u001b[0m\u001b[0;32m      2\u001b[0m \u001b[1;33m\u001b[0m\u001b[0m\n\u001b[0;32m      3\u001b[0m \u001b[1;33m\u001b[0m\u001b[0m\n",
      "\u001b[1;31mNameError\u001b[0m: name 'DfdcNh9vinvN8UcC' is not defined"
     ]
    }
   ],
   "source": [
    "\n",
    "\n"
   ]
  },
  {
   "cell_type": "code",
   "execution_count": 8,
   "metadata": {},
   "outputs": [],
   "source": []
  },
  {
   "cell_type": "code",
   "execution_count": 13,
   "metadata": {},
   "outputs": [
    {
     "name": "stdout",
     "output_type": "stream",
     "text": [
      "{'access_token': 'neRmb-fKlZvwEEkVuLQz1zIIADMe0jFewCXg9Qo9dVsAAAF013K4CA', 'token_type': 'bearer', 'refresh_token': 'aFcfoZl8FOpR3G3dn5nD0b-NcHU4o2GNt2nBtwo9dVsAAAF013K4Bw', 'expires_in': 21599, 'scope': 'talk_message profile', 'refresh_token_expires_in': 5183999}\n"
     ]
    }
   ],
   "source": []
  },
  {
   "cell_type": "code",
   "execution_count": 12,
   "metadata": {},
   "outputs": [
    {
     "name": "stdout",
     "output_type": "stream",
     "text": [
      "Collecting requests\n",
      "  Downloading requests-2.24.0-py2.py3-none-any.whl (61 kB)\n",
      "Collecting certifi>=2017.4.17\n",
      "  Downloading certifi-2020.6.20-py2.py3-none-any.whl (156 kB)\n",
      "Collecting chardet<4,>=3.0.2\n",
      "  Downloading chardet-3.0.4-py2.py3-none-any.whl (133 kB)\n",
      "Collecting idna<3,>=2.5\n",
      "  Downloading idna-2.10-py2.py3-none-any.whl (58 kB)\n",
      "Collecting urllib3!=1.25.0,!=1.25.1,<1.26,>=1.21.1\n",
      "  Downloading urllib3-1.25.10-py2.py3-none-any.whl (127 kB)\n",
      "Installing collected packages: certifi, chardet, idna, urllib3, requests\n",
      "Successfully installed certifi-2020.6.20 chardet-3.0.4 idna-2.10 requests-2.24.0 urllib3-1.25.10\n"
     ]
    }
   ],
   "source": []
  },
  {
   "cell_type": "code",
   "execution_count": null,
   "metadata": {},
   "outputs": [],
   "source": []
  },
  {
   "cell_type": "code",
   "execution_count": 14,
   "metadata": {},
   "outputs": [
    {
     "ename": "NameError",
     "evalue": "name 'aFcfoZl8FOpR3G3dn5nD0b' is not defined",
     "output_type": "error",
     "traceback": [
      "\u001b[1;31m---------------------------------------------------------------------------\u001b[0m",
      "\u001b[1;31mNameError\u001b[0m                                 Traceback (most recent call last)",
      "\u001b[1;32m<ipython-input-14-874e94c61427>\u001b[0m in \u001b[0;36m<module>\u001b[1;34m\u001b[0m\n\u001b[1;32m----> 1\u001b[1;33m \u001b[0maFcfoZl8FOpR3G3dn5nD0b\u001b[0m\u001b[1;33m-\u001b[0m\u001b[0mNcHU4o2GNt2nBtwo9dVsAAAF013K4Bw\u001b[0m\u001b[1;33m\u001b[0m\u001b[1;33m\u001b[0m\u001b[0m\n\u001b[0m\u001b[0;32m      2\u001b[0m \u001b[1;33m\u001b[0m\u001b[0m\n",
      "\u001b[1;31mNameError\u001b[0m: name 'aFcfoZl8FOpR3G3dn5nD0b' is not defined"
     ]
    }
   ],
   "source": [
    "\n"
   ]
  },
  {
   "cell_type": "code",
   "execution_count": 16,
   "metadata": {},
   "outputs": [
    {
     "name": "stdout",
     "output_type": "stream",
     "text": [
      "Writing I:\\lotto.py\n"
     ]
    }
   ],
   "source": [
    "%%writefile I:\\lotto.py\n",
    "\n",
    "#-*- coding:utf-8 -*-\n",
    "import json\n",
    "import requests\n",
    "import random\n",
    "\n",
    "app_key = 'b95b39d6b4f00e9b82cd81a7c42c0edd'\n",
    "redirect_url = 'https://www.naver.com'\n",
    "temp_key='DfdcNh9vinvN8UcC-R4hyB8Pi_8bGqVLrhkN224SPI7XuUpIl0va3SKK0gzcaS8i0ca2XAopb9QAAAF0126AfQ'\n",
    "\n",
    "#인증코드 받아오기\n",
    "oauth_url='https://kauth.kakao.com/oauth/authorize?client_id='+app_key+'&redirect_uri='+redirect_url+'&response_type=code'\n",
    "\n",
    "access_token =  'neRmb-fKlZvwEEkVuLQz1zIIADMe0jFewCXg9Qo9dVsAAAF013K4CA'\n",
    "refresh_token = 'aFcfoZl8FOpR3G3dn5nD0b-NcHU4o2GNt2nBtwo9dVsAAAF013K4Bw'\n",
    "\n",
    "#메시지 전송 추가 인증\n",
    "#print('https://kauth.kakao.com/oauth/authorize?client_id='+app_key+'&redirect_uri='+redirect_url+'&response_type=code&scope=talk_message')\n",
    "\n",
    "def get_token():\n",
    "    # 인증코드로 토큰 값 받아오기\n",
    "    req_url = 'https://kauth.kakao.com/oauth/token'\n",
    "    data = {'grant_type': 'authorization_code' ,'client_id':app_key ,'redirect_uri':redirect_url ,'code':temp_key}\n",
    "    req = requests.post(req_url,data=data)\n",
    "    #json 내 token, refresh_token 값\n",
    "    return req.json()\n",
    "\n",
    "def renew_token():\n",
    "    # 리프레시 토큰으로 갱신하기\n",
    "    req_url = 'https://kauth.kakao.com/oauth/token'\n",
    "    data = {'grant_type': 'refresh_token' ,'client_id':app_key ,'refresh_token':refresh_token}\n",
    "    req = requests.post(req_url,data=data)\n",
    "    #json 내 token, refresh_token 값\n",
    "    return req.json()\n",
    "\n",
    "def make_message(text):\n",
    "    temp = {\n",
    "            'object_type': 'text',\n",
    "            'text': text,\n",
    "            'link': {\n",
    "                \n",
    "            },\n",
    "            'button_title': '바로 확인',\n",
    "\n",
    "            }\n",
    "    return {\"template_object\":json.dumps(temp)}\n",
    "\n",
    "def send_message(text):\n",
    "    req_url='https://kapi.kakao.com/v2/api/talk/memo/default/send'\n",
    "    req_header = {\"Content-Type\": \"application/json\",\"Content-Type\": \"x-www-form-urlencoded\",\"Authorization\": 'Bearer '+access_token}\n",
    "    req = requests.post(req_url, headers=req_header, params = make_message(text))\n",
    "    if req.status_code == 200: \n",
    "        print('success')\n",
    "    else:\n",
    "        print(req.text)\n",
    "    \n",
    "renew = renew_token()\n",
    "access_token = renew['access_token']\n",
    "lotto = random.sample(range(1,46),6)\n",
    "lotto.sort()\n",
    "send_message(str(lotto))\n"
   ]
  },
  {
   "cell_type": "code",
   "execution_count": null,
   "metadata": {},
   "outputs": [],
   "source": []
  }
 ],
 "metadata": {
  "kernelspec": {
   "display_name": "Python 3",
   "language": "python",
   "name": "python3"
  },
  "language_info": {
   "codemirror_mode": {
    "name": "ipython",
    "version": 3
   },
   "file_extension": ".py",
   "mimetype": "text/x-python",
   "name": "python",
   "nbconvert_exporter": "python",
   "pygments_lexer": "ipython3",
   "version": "3.8.5"
  }
 },
 "nbformat": 4,
 "nbformat_minor": 4
}
